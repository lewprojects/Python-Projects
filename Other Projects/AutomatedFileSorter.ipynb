{
 "cells": [
  {
   "cell_type": "markdown",
   "id": "919ce608-e914-4ecb-b3a7-51002d5ad456",
   "metadata": {},
   "source": [
    "#Automated File Sorter"
   ]
  },
  {
   "cell_type": "markdown",
   "id": "357aab90-bac9-447d-9511-410b7b515301",
   "metadata": {},
   "source": [
    "#Original Project with Alex the Analyst"
   ]
  },
  {
   "cell_type": "code",
   "execution_count": 48,
   "id": "1151bd0d-cca6-47de-89fa-da644d9ea1e0",
   "metadata": {
    "tags": []
   },
   "outputs": [
    {
     "name": "stdout",
     "output_type": "stream",
     "text": [
      "Files sorted successfully.\n"
     ]
    }
   ],
   "source": [
    "import os, shutil\n",
    "\n",
    "path = \"/Users/summitenglish/Downloads/\"\n",
    "\n",
    "file_names = os.listdir(path)\n",
    "\n",
    "extension_folders = {}\n",
    "\n",
    "folder_names = ['csv files', 'image files', 'text files']\n",
    "\n",
    "for file in file_names:\n",
    "    file_extension = os.path.splitext(file)[1].lower()\n",
    "        if os.path.isdir(os.path.join(path, file)):\n",
    "        continue\n",
    "\n",
    "    if \".csv\" in file and not os.path.exists(path +\"csv files/\" + file):\n",
    "        shutil.move(path + file, path + \"csv files/\" + file)\n",
    "    elif \".png\" in file and not os.path.exists(path +\"image files/\" + file):\n",
    "        shutil.move(path + file, path + \"image files/\" + file)\n",
    "    elif \".txt\" in file and not os.path.exists(path +\"text files/\" + file):\n",
    "        shutil.move(path + file, path + \"text files/\" + file)\n",
    "        \n",
    "for folder in range(0,3):\n",
    "    if not os.path.exists(path + folder_names[folder]):\n",
    "        print(path + folder_names[folder])\n",
    "        os.makedirs(path + folder_names[folder])\n",
    "\n"
   ]
  },
  {
   "cell_type": "markdown",
   "id": "134e9683-fc9d-45ec-bbf7-28740130f0a6",
   "metadata": {
    "tags": []
   },
   "source": [
    "#Project improved by checking the directory for all file extensions and creating folders for each file extension"
   ]
  },
  {
   "cell_type": "code",
   "execution_count": 58,
   "id": "6285d3b3-cd8c-45e5-b893-3f208b604349",
   "metadata": {
    "tags": []
   },
   "outputs": [
    {
     "name": "stdout",
     "output_type": "stream",
     "text": [
      "Files sorted successfully.\n"
     ]
    }
   ],
   "source": [
    "import os, shutil\n",
    "\n",
    "path = \"/Users/summitenglish/Downloads/\"\n",
    "file_names = os.listdir(path)\n",
    "\n",
    "# Dictionary to store file extensions and their corresponding folder names\n",
    "extension_folders = {}\n",
    "\n",
    "# Iterate through each file in the directory\n",
    "for file in file_names:\n",
    "    # Get the file extension\n",
    "    file_extension = os.path.splitext(file)[1].lower()\n",
    "\n",
    "    # Skip directories\n",
    "    if os.path.isdir(os.path.join(path, file)):\n",
    "        continue\n",
    "\n",
    "    # Create folder name based on file extension\n",
    "    folder_name = file_extension[1:] + \" files\"\n",
    "\n",
    "    # Update dictionary with folder name for the extension\n",
    "    if file_extension not in extension_folders:\n",
    "        extension_folders[file_extension] = folder_name\n",
    "\n",
    "    # Create folder if it doesn't exist\n",
    "    if not os.path.exists(os.path.join(path, folder_name)):\n",
    "        os.makedirs(os.path.join(path, folder_name))\n",
    "\n",
    "    # Move file to corresponding folder\n",
    "    shutil.move(os.path.join(path, file), os.path.join(path, folder_name, file))\n",
    "\n",
    "print(\"Files sorted successfully.\")\n"
   ]
  },
  {
   "cell_type": "code",
   "execution_count": null,
   "id": "b6ff23ae-53e8-4ee2-a2ef-f5d45b6dfb07",
   "metadata": {},
   "outputs": [],
   "source": []
  },
  {
   "cell_type": "code",
   "execution_count": null,
   "id": "1b63c403-8d98-42ef-802e-be5f44e14cb0",
   "metadata": {},
   "outputs": [],
   "source": []
  }
 ],
 "metadata": {
  "kernelspec": {
   "display_name": "Python 3 (ipykernel)",
   "language": "python",
   "name": "python3"
  },
  "language_info": {
   "codemirror_mode": {
    "name": "ipython",
    "version": 3
   },
   "file_extension": ".py",
   "mimetype": "text/x-python",
   "name": "python",
   "nbconvert_exporter": "python",
   "pygments_lexer": "ipython3",
   "version": "3.11.7"
  }
 },
 "nbformat": 4,
 "nbformat_minor": 5
}
