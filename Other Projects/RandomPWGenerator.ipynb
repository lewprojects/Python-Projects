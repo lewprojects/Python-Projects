{
 "cells": [
  {
   "cell_type": "code",
   "execution_count": 4,
   "id": "a53368d7-f9a9-444f-b363-7a39646b1769",
   "metadata": {
    "tags": []
   },
   "outputs": [
    {
     "name": "stdout",
     "output_type": "stream",
     "text": [
      "Welcome to the PyPassword Generator!\n"
     ]
    },
    {
     "name": "stdin",
     "output_type": "stream",
     "text": [
      "How many letters would you like in your password?\n",
      " 20\n",
      "How many symbols would you like?\n",
      " 6\n",
      "How many numbers would you like?\n",
      " 5\n"
     ]
    },
    {
     "name": "stdout",
     "output_type": "stream",
     "text": [
      "Your basic password is: rSORbmrRqivHKehtjmTS46335&%((*(\n",
      "Your randomized password is: 4Rrmtv(&S3bSHr3jieK%(R5hqmO6*T(\n"
     ]
    }
   ],
   "source": [
    "#Password Generator Project\n",
    "def pwgenerator():\n",
    "    import random\n",
    "    letters = ['a', 'b', 'c', 'd', 'e', 'f', 'g', 'h', 'i', 'j', 'k', 'l', 'm', 'n', 'o', 'p', 'q', 'r', 's', 't', 'u', 'v', 'w', 'x', 'y', 'z', 'A', 'B', 'C', 'D', 'E', 'F', 'G', 'H', 'I', 'J', 'K', 'L', 'M', 'N', 'O', 'P', 'Q', 'R', 'S', 'T', 'U', 'V', 'W', 'X', 'Y', 'Z']\n",
    "    numbers = ['0', '1', '2', '3', '4', '5', '6', '7', '8', '9']\n",
    "    symbols = ['!', '#', '$', '%', '&', '(', ')', '*', '+']\n",
    "\n",
    "    print(\"Welcome to the PyPassword Generator!\")\n",
    "    nr_letters= int(input(\"How many letters would you like in your password?\\n\")) \n",
    "    nr_symbols = int(input(f\"How many symbols would you like?\\n\"))\n",
    "    nr_numbers = int(input(f\"How many numbers would you like?\\n\"))\n",
    "\n",
    "    #Eazy Level - Order not randomised:\n",
    "    #e.g. 4 letter, 2 symbol, 2 number = JduE&!91\n",
    "\n",
    "    password = []\n",
    "    PW = \"\"\n",
    "\n",
    "    for letter in range(1, (nr_letters + 1), 1):\n",
    "      password.append(letters[random.randint(0, (len(letters)-1))])\n",
    "    for number in range(1, (nr_numbers + 1), 1):\n",
    "      password.append(numbers[random.randint(0, (len(numbers)-1))])\n",
    "    for symbol in range(1, (nr_symbols + 1), 1):\n",
    "      password.append(symbols[random.randint(0, (len(symbols)-1))])\n",
    "\n",
    "    PW = PW.join(password)\n",
    "\n",
    "    print(f\"Your basic password is: {PW}\")\n",
    "\n",
    "    #Hard Level - Order of characters randomised:\n",
    "    #e.g. 4 letter, 2 symbol, 2 number = g^2jk8&P\n",
    "\n",
    "    Rand_PW = \"\"\n",
    "\n",
    "    random.shuffle(password)\n",
    "    Rand_PW = Rand_PW.join(password)\n",
    "\n",
    "    print(f\"Your randomized password is: {Rand_PW}\")\n",
    "    \n",
    "pwgenerator()"
   ]
  },
  {
   "cell_type": "code",
   "execution_count": null,
   "id": "bfc89763-b5c1-43b1-ae9b-faa56cc31702",
   "metadata": {},
   "outputs": [],
   "source": []
  }
 ],
 "metadata": {
  "kernelspec": {
   "display_name": "Python 3 (ipykernel)",
   "language": "python",
   "name": "python3"
  },
  "language_info": {
   "codemirror_mode": {
    "name": "ipython",
    "version": 3
   },
   "file_extension": ".py",
   "mimetype": "text/x-python",
   "name": "python",
   "nbconvert_exporter": "python",
   "pygments_lexer": "ipython3",
   "version": "3.11.7"
  }
 },
 "nbformat": 4,
 "nbformat_minor": 5
}
