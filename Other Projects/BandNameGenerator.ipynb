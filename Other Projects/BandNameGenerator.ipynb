{
 "cells": [
  {
   "cell_type": "code",
   "execution_count": null,
   "id": "b9db7f06-0400-4eff-a18f-14a8ad474acb",
   "metadata": {},
   "outputs": [],
   "source": [
    "def NameGenerator():\n",
    "    print(\"Welcome to Band Name Generator!\\n\")\n",
    "\n",
    "    city = input(\"What's the name of the city you grew up in? \\n\")\n",
    "\n",
    "    pet = input(\"What's your pet's name? \\n\")\n",
    "\n",
    "    print(\"Your band name could be \" + city + \" \" + pet + \".\")\n",
    "    \n",
    "NameGenerator()"
   ]
  }
 ],
 "metadata": {
  "kernelspec": {
   "display_name": "Python 3 (ipykernel)",
   "language": "python",
   "name": "python3"
  },
  "language_info": {
   "codemirror_mode": {
    "name": "ipython",
    "version": 3
   },
   "file_extension": ".py",
   "mimetype": "text/x-python",
   "name": "python",
   "nbconvert_exporter": "python",
   "pygments_lexer": "ipython3",
   "version": "3.11.7"
  }
 },
 "nbformat": 4,
 "nbformat_minor": 5
}
