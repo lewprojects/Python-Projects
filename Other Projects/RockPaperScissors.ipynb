{
 "cells": [
  {
   "cell_type": "code",
   "execution_count": 2,
   "id": "4dc087e4-99f9-44d8-9e85-2ad7b58b7dc5",
   "metadata": {
    "tags": []
   },
   "outputs": [
    {
     "name": "stdout",
     "output_type": "stream",
     "text": [
      "Welcome to the Rock, Paper, Scissors game!\n",
      "\n"
     ]
    },
    {
     "name": "stdin",
     "output_type": "stream",
     "text": [
      "What do you choose? Type 0 for Rock, 1 for Paper or 2 for Scissors.\n",
      " 0\n"
     ]
    },
    {
     "name": "stdout",
     "output_type": "stream",
     "text": [
      "\n",
      " You chose Rock.\n",
      "        _______\n",
      "    ---'   ____)\n",
      "          (_____)\n",
      "          (_____)\n",
      "          (____)\n",
      "    ---.__(___)\n",
      "    \n",
      "\n",
      " Computer chose Paper.\n",
      "        _______\n",
      "    ---'   ____)____\n",
      "              ______)\n",
      "              _______)\n",
      "             _______)\n",
      "    ---.__________)\n",
      "    \n",
      " You lose!\n"
     ]
    }
   ],
   "source": [
    "def rpcgame():\n",
    "    import random\n",
    "\n",
    "    rock = '''Rock.\n",
    "        _______\n",
    "    ---'   ____)\n",
    "          (_____)\n",
    "          (_____)\n",
    "          (____)\n",
    "    ---.__(___)\n",
    "    '''\n",
    "\n",
    "    paper = '''Paper.\n",
    "        _______\n",
    "    ---'   ____)____\n",
    "              ______)\n",
    "              _______)\n",
    "             _______)\n",
    "    ---.__________)\n",
    "    '''\n",
    "\n",
    "    scissors = '''Scissors.\n",
    "        _______\n",
    "    ---'   ____)____\n",
    "              ______)\n",
    "           __________)\n",
    "          (____)\n",
    "    ---.__(___)\n",
    "    '''\n",
    "    images = [rock, paper, scissors]\n",
    "\n",
    "    print(\"Welcome to the Rock, Paper, Scissors game!\\n\")\n",
    "\n",
    "    user_choice = int(input(\"What do you choose? Type 0 for Rock, 1 for Paper or 2 for Scissors.\\n\"))\n",
    "    comp_choice = random.randint(0, 2)\n",
    "\n",
    "    if user_choice < 0 or user_choice > 2:\n",
    "      print(\"Invalid number. You lose.\")\n",
    "    else:\n",
    "      print(f\"\\n You chose {images[user_choice]}\")\n",
    "      print(f\"\\n Computer chose {images[comp_choice]}\")\n",
    "\n",
    "      if user_choice == comp_choice:\n",
    "        print(\" It's a draw!\")\n",
    "      elif user_choice == 0 and comp_choice == 1:\n",
    "        print(\" You lose!\")\n",
    "      elif user_choice == 0 and comp_choice == 2:\n",
    "        print(\" You win!\")\n",
    "      elif user_choice == 1 and comp_choice == 0:\n",
    "        print(\" You win!\")\n",
    "      elif user_choice == 1 and comp_choice == 2:\n",
    "        print(\" You lose!\")\n",
    "      elif user_choice == 2 and comp_choice == 0:\n",
    "        print(\" You lose!\")\n",
    "      elif user_choice == 2 and comp_choice == 1:\n",
    "        print(\" You win\");\n",
    "\n",
    "rpcgame()"
   ]
  },
  {
   "cell_type": "code",
   "execution_count": null,
   "id": "71e0d977-95ca-4dc6-af8e-2d2964dc757f",
   "metadata": {},
   "outputs": [],
   "source": []
  }
 ],
 "metadata": {
  "kernelspec": {
   "display_name": "Python 3 (ipykernel)",
   "language": "python",
   "name": "python3"
  },
  "language_info": {
   "codemirror_mode": {
    "name": "ipython",
    "version": 3
   },
   "file_extension": ".py",
   "mimetype": "text/x-python",
   "name": "python",
   "nbconvert_exporter": "python",
   "pygments_lexer": "ipython3",
   "version": "3.11.7"
  }
 },
 "nbformat": 4,
 "nbformat_minor": 5
}
