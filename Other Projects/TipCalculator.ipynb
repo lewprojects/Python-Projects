{
 "cells": [
  {
   "cell_type": "code",
   "execution_count": null,
   "id": "ae67ba43-ead1-43de-b31d-aa1cd649f4f7",
   "metadata": {},
   "outputs": [],
   "source": [
    "def TipCalculator():\n",
    "    print(\"Welcome to the tip calculator.\")\n",
    "\n",
    "    bill = input(\"What was the total bill?\\n\")\n",
    "\n",
    "    tip = input(\"What percentage tip would you like to give? 10, 12, or 15?\\n\")\n",
    "\n",
    "    people = input(\"How many people to split the bill?\\n\")\n",
    "\n",
    "    total = round((float(bill) * (1 + (int(tip)/100)) / int(people)), 2)\n",
    "\n",
    "    print(f\"Each person should pay: ${total}\")\n",
    "    \n",
    "TipCalculator()"
   ]
  }
 ],
 "metadata": {
  "kernelspec": {
   "display_name": "Python 3 (ipykernel)",
   "language": "python",
   "name": "python3"
  },
  "language_info": {
   "codemirror_mode": {
    "name": "ipython",
    "version": 3
   },
   "file_extension": ".py",
   "mimetype": "text/x-python",
   "name": "python",
   "nbconvert_exporter": "python",
   "pygments_lexer": "ipython3",
   "version": "3.11.7"
  }
 },
 "nbformat": 4,
 "nbformat_minor": 5
}
