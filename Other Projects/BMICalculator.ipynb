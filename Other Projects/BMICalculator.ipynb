{
 "cells": [
  {
   "cell_type": "markdown",
   "id": "48fecabb-f20f-4ccc-8897-3b1a70c873da",
   "metadata": {},
   "source": [
    "#BMI Calculator"
   ]
  },
  {
   "cell_type": "markdown",
   "id": "081f9fb8-ae64-4009-8242-285b927a83a4",
   "metadata": {
    "tags": []
   },
   "source": [
    "#Original project with Alext the Analyst"
   ]
  },
  {
   "cell_type": "code",
   "execution_count": 42,
   "id": "ef685216-acf7-420d-a19f-3105d157bb4b",
   "metadata": {
    "tags": []
   },
   "outputs": [
    {
     "name": "stdin",
     "output_type": "stream",
     "text": [
      "Enter your name Lance\n",
      "Enter your weight in pounds:  170\n",
      "Enter your height in inches:  68\n"
     ]
    },
    {
     "name": "stdout",
     "output_type": "stream",
     "text": [
      "Lance, you are overweight\n"
     ]
    }
   ],
   "source": [
    "name = input(\"Enter your name\")\n",
    "\n",
    "weight = int(input(\"Enter your weight in pounds: \"))\n",
    "\n",
    "height = int(input(\"Enter your height in inches: \"))\n",
    "\n",
    "bmi = (weight * 703) / (height*height)\n",
    "\n",
    "if bmi > 0:\n",
    "    if(bmi < 18.5):\n",
    "       print(name + \", you are underweight\")\n",
    "    elif(bmi<=24.9):\n",
    "        print(name + \", you are normal weight\")\n",
    "    elif(bmi<=29.9):\n",
    "        print(name + \", you are overweight\")\n",
    "    elif(bmi<=34.9):\n",
    "        print(name + \", you are obese\")\n",
    "    else:\n",
    "        print(name + \", you are morbidly obese\")\n",
    "else:\n",
    "    print(name + \", please enter valid inputs\")"
   ]
  },
  {
   "cell_type": "markdown",
   "id": "60b070f7-68ec-4d8b-bc10-0758b659593e",
   "metadata": {
    "tags": []
   },
   "source": [
    "#Project improved by adding edge cases for incorrect inputs and creating functions for calculations."
   ]
  },
  {
   "cell_type": "code",
   "execution_count": 44,
   "id": "2a37fc45-4f12-47da-80ae-5585059c9e3e",
   "metadata": {
    "tags": []
   },
   "outputs": [
    {
     "name": "stdin",
     "output_type": "stream",
     "text": [
      "Enter your name:  Lance\n",
      "Hello, Lance. Enter your weight in pounds:  170\n",
      "Enter your height in inches:  68\n"
     ]
    },
    {
     "name": "stdout",
     "output_type": "stream",
     "text": [
      "Lance, your BMI is: 25.8\n",
      "You are overweight.\n"
     ]
    }
   ],
   "source": [
    "def calculate_bmi(weight, height):\n",
    "    \"\"\"\n",
    "    Calculate BMI (Body Mass Index) given weight in pounds and height in inches.\n",
    "    \"\"\"\n",
    "    if weight <= 0 or height <= 0:\n",
    "        return None  # Return None for invalid inputs\n",
    "\n",
    "    bmi = (weight / (height ** 2)) * 703  # BMI formula for weight in pounds and height in inches\n",
    "    return bmi\n",
    "\n",
    "def main():\n",
    "    # Get user's name\n",
    "    name = input(\"Enter your name: \")\n",
    "\n",
    "    # Get user input for weight\n",
    "    while True:\n",
    "        weight_input = input(\"Hello, {}. Enter your weight in pounds: \".format(name))\n",
    "        try:\n",
    "            weight = float(weight_input)\n",
    "            if weight > 0:\n",
    "                break\n",
    "            else:\n",
    "                print(\"Weight must be a positive number.\")\n",
    "        except ValueError:\n",
    "            print(\"Invalid input! Please enter a numeric value for weight.\")\n",
    "\n",
    "    # Get user input for height\n",
    "    while True:\n",
    "        height_input = input(\"Enter your height in inches: \")\n",
    "        try:\n",
    "            height = float(height_input)\n",
    "            if height > 0:\n",
    "                break\n",
    "            else:\n",
    "                print(\"Height must be a positive number.\")\n",
    "        except ValueError:\n",
    "            print(\"Invalid input! Please enter a numeric value for height.\")\n",
    "\n",
    "    # Calculate BMI\n",
    "    bmi = calculate_bmi(weight, height)\n",
    "\n",
    "    # Check if BMI is calculated\n",
    "    if bmi is None:\n",
    "        print(\"Invalid input! Weight and height must be positive numbers.\")\n",
    "    else:\n",
    "        # Display BMI to one decimal place\n",
    "        print(\"{}, your BMI is: {:.1f}\".format(name, bmi))\n",
    "\n",
    "        # Interpret BMI results\n",
    "        if bmi < 18.5:\n",
    "            print(\"You are underweight.\")\n",
    "        elif bmi >= 18.5 and bmi < 25:\n",
    "            print(\"You have a normal weight.\")\n",
    "        elif bmi >= 25 and bmi < 30:\n",
    "            print(\"You are overweight.\")\n",
    "        else:\n",
    "            print(\"You are obese.\")\n",
    "\n",
    "if __name__ == \"__main__\":\n",
    "    main()\n"
   ]
  },
  {
   "cell_type": "code",
   "execution_count": null,
   "id": "354e34cf-1e55-453c-9b70-3145d83c95f5",
   "metadata": {},
   "outputs": [],
   "source": []
  }
 ],
 "metadata": {
  "kernelspec": {
   "display_name": "Python 3 (ipykernel)",
   "language": "python",
   "name": "python3"
  },
  "language_info": {
   "codemirror_mode": {
    "name": "ipython",
    "version": 3
   },
   "file_extension": ".py",
   "mimetype": "text/x-python",
   "name": "python",
   "nbconvert_exporter": "python",
   "pygments_lexer": "ipython3",
   "version": "3.11.7"
  }
 },
 "nbformat": 4,
 "nbformat_minor": 5
}
